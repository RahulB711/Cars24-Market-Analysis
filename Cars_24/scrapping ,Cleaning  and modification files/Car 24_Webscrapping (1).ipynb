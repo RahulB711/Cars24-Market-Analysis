{
 "cells": [
  {
   "cell_type": "code",
   "execution_count": 1,
   "id": "546951a4",
   "metadata": {},
   "outputs": [],
   "source": [
    "from time import sleep\n",
    "import time\n",
    "import os\n",
    "from selenium.webdriver.support.ui import WebDriverWait\n",
    "from selenium import webdriver\n",
    "from selenium.webdriver.common.by import By\n",
    "from selenium.webdriver.common.keys import Keys\n",
    "from bs4 import BeautifulSoup\n",
    "from selenium.webdriver.support import expected_conditions as EC\n"
   ]
  },
  {
   "cell_type": "code",
   "execution_count": 57,
   "id": "31f2a0b8",
   "metadata": {},
   "outputs": [
    {
     "name": "stderr",
     "output_type": "stream",
     "text": [
      "C:\\Users\\bisht\\AppData\\Local\\Temp\\ipykernel_36068\\3105421031.py:1: DeprecationWarning: executable_path has been deprecated, please pass in a Service object\n",
      "  browser = webdriver.Chrome(executable_path=\"C:\\\\Users\\\\bisht\\\\Downloads\\\\chromedriver-win64\\\\chromedriver-win64\\\\chromedriver.exe\")\n"
     ]
    }
   ],
   "source": [
    "browser = webdriver.Chrome(executable_path=\"C:\\\\Users\\\\bisht\\\\Downloads\\\\chromedriver-win64\\\\chromedriver-win64\\\\chromedriver.exe\")\n",
    "\n",
    "\n",
    "wait = WebDriverWait(browser, 15)\n",
    "browser.get('https://www.cars24.com/buy-used-hatchback-cars-bangalore/')"
   ]
  },
  {
   "cell_type": "code",
   "execution_count": 36,
   "id": "79228e10",
   "metadata": {},
   "outputs": [],
   "source": [
    "from selenium.webdriver.common.keys import Keys\n",
    "\n",
    "\n",
    "configuration_hatchback = []  \n",
    "previous_car_count = 0\n",
    "while True:\n",
    "    browser.find_element(By.TAG_NAME, 'body').send_keys(Keys.END)\n",
    "    time.sleep(3)  \n",
    "    current_car_elements = browser.find_elements(By.XPATH, \"//ul[@class='_13yb6']\")\n",
    "    \n",
    "    if len(current_car_elements) == previous_car_count:\n",
    "        break \n",
    "    else:\n",
    "        for element in current_car_elements[previous_car_count:]:\n",
    "            configuration_hatchback.append(element.text)\n",
    "        previous_car_count = len(current_car_elements)\n",
    "\n",
    "\n"
   ]
  },
  {
   "cell_type": "code",
   "execution_count": 37,
   "id": "7f8e31b4",
   "metadata": {},
   "outputs": [],
   "source": [
    "Car_Model_hatchback = []  \n",
    "previous_car_count = 0\n",
    "while True:\n",
    "    browser.find_element(By.TAG_NAME, 'body').send_keys(Keys.END)\n",
    "    time.sleep(3) \n",
    "    current_car_elements = browser.find_elements(By.XPATH, \"//h2[@class='_2lmIw']\")\n",
    "    \n",
    "    if len(current_car_elements) == previous_car_count:\n",
    "        break  \n",
    "    else:\n",
    "        for element in current_car_elements[previous_car_count:]:\n",
    "            Car_Model_hatchback .append(element.text)\n",
    "        previous_car_count = len(current_car_elements)\n"
   ]
  },
  {
   "cell_type": "code",
   "execution_count": 38,
   "id": "e5e84a3a",
   "metadata": {},
   "outputs": [],
   "source": [
    "\n",
    "Type_hatchback = []  \n",
    "previous_car_count = 0\n",
    "while True:\n",
    "    browser.find_element(By.TAG_NAME, 'body').send_keys(Keys.END)\n",
    "    time.sleep(3) \n",
    "    current_car_elements = browser.find_elements(By.XPATH, \"//ul[@class='_1hOnS']\")\n",
    "    \n",
    "    if len(current_car_elements) == previous_car_count:\n",
    "        break \n",
    "    else:\n",
    "        for element in current_car_elements[previous_car_count:]:\n",
    "            Type_hatchback.append(element.text)\n",
    "        previous_car_count = len(current_car_elements)\n"
   ]
  },
  {
   "cell_type": "code",
   "execution_count": 39,
   "id": "c9a88065",
   "metadata": {},
   "outputs": [],
   "source": [
    "Discounted_Car_Price_hatchback = []  \n",
    "previous_car_count = 0\n",
    "while True:\n",
    "    browser.find_element(By.TAG_NAME, 'body').send_keys(Keys.END)\n",
    "    time.sleep(3)  \n",
    "    current_car_elements = browser.find_elements(By.XPATH, \"//div[@class='_18ToE']\")\n",
    "    \n",
    "    if len(current_car_elements) == previous_car_count:\n",
    "        break  \n",
    "    else:\n",
    "        for element in current_car_elements[previous_car_count:]:\n",
    "            Discounted_Car_Price_hatchback.append(element.text)\n",
    "        previous_car_count = len(current_car_elements)\n"
   ]
  },
  {
   "cell_type": "code",
   "execution_count": 40,
   "id": "089b7845",
   "metadata": {},
   "outputs": [],
   "source": [
    "Location = []  \n",
    "previous_car_count = 0\n",
    "while True:\n",
    "    browser.find_element(By.TAG_NAME, 'body').send_keys(Keys.END)\n",
    "    time.sleep(3) \n",
    "    current_car_elements = browser.find_elements(By.XPATH, \"//span[@class='_3DYbK']\")\n",
    "    \n",
    "    if len(current_car_elements) == previous_car_count:\n",
    "        break  \n",
    "    else:\n",
    "        for element in current_car_elements[previous_car_count:]:\n",
    "            Location.append(element.text)\n",
    "        previous_car_count = len(current_car_elements)\n"
   ]
  },
  {
   "cell_type": "markdown",
   "id": "2ad5603c",
   "metadata": {},
   "source": [
    "- # Sedan"
   ]
  },
  {
   "cell_type": "code",
   "execution_count": 58,
   "id": "0ee588bb",
   "metadata": {},
   "outputs": [],
   "source": [
    "browser.get('https://www.cars24.com/buy-used-sedan-cars-bangalore/')"
   ]
  },
  {
   "cell_type": "code",
   "execution_count": 17,
   "id": "33ed717a",
   "metadata": {},
   "outputs": [],
   "source": [
    "Car_Model_Sedan = [] \n",
    "previous_car_count = 0\n",
    "while True:\n",
    "    browser.find_element(By.TAG_NAME, 'body').send_keys(Keys.END)\n",
    "    time.sleep(3)  \n",
    "    current_car_elements = browser.find_elements(By.XPATH, \"//h2[@class='_2lmIw']\")\n",
    "    \n",
    "    if len(current_car_elements) == previous_car_count:\n",
    "        break \n",
    "    else:\n",
    "        for element in current_car_elements[previous_car_count:]:\n",
    "            Car_Model_Sedan .append(element.text)\n",
    "        previous_car_count = len(current_car_elements)\n",
    "\n"
   ]
  },
  {
   "cell_type": "code",
   "execution_count": 18,
   "id": "a7cc7326",
   "metadata": {},
   "outputs": [],
   "source": [
    "from selenium.webdriver.common.keys import Keys\n",
    "\n",
    "# ...\n",
    "\n",
    "configuration_Sedan = []  \n",
    "previous_car_count = 0\n",
    "while True:\n",
    "    browser.find_element(By.TAG_NAME, 'body').send_keys(Keys.END)\n",
    "    time.sleep(3)  \n",
    "    current_car_elements = browser.find_elements(By.XPATH, \"//ul[@class='_13yb6']\")\n",
    "    \n",
    "    if len(current_car_elements) == previous_car_count:\n",
    "        break  \n",
    "    else:\n",
    "        for element in current_car_elements[previous_car_count:]:\n",
    "            configuration_Sedan.append(element.text)\n",
    "        previous_car_count = len(current_car_elements)\n"
   ]
  },
  {
   "cell_type": "code",
   "execution_count": 19,
   "id": "748d1df3",
   "metadata": {},
   "outputs": [],
   "source": [
    "\n",
    "Type_Sedan = [] \n",
    "previous_car_count = 0\n",
    "while True:\n",
    "    browser.find_element(By.TAG_NAME, 'body').send_keys(Keys.END)\n",
    "    time.sleep(3) \n",
    "    current_car_elements = browser.find_elements(By.XPATH, \"//ul[@class='_1hOnS']\")\n",
    "    \n",
    "    if len(current_car_elements) == previous_car_count:\n",
    "        break \n",
    "    else:\n",
    "        for element in current_car_elements[previous_car_count:]:\n",
    "            Type_Sedan.append(element.text)\n",
    "        previous_car_count = len(current_car_elements)"
   ]
  },
  {
   "cell_type": "code",
   "execution_count": 20,
   "id": "55e25169",
   "metadata": {},
   "outputs": [],
   "source": [
    "Discounted_Car_Price_Sedan = []  \n",
    "\n",
    "\n",
    "previous_car_count = 0\n",
    "while True:\n",
    "    browser.find_element(By.TAG_NAME, 'body').send_keys(Keys.END)\n",
    "    time.sleep(3) \n",
    "    current_car_elements = browser.find_elements(By.XPATH, \"//div[@class='_18ToE']\")\n",
    "    \n",
    "    if len(current_car_elements) == previous_car_count:\n",
    "        break  \n",
    "    else:\n",
    "        for element in current_car_elements[previous_car_count:]:\n",
    "            Discounted_Car_Price_Sedan.append(element.text)\n",
    "        previous_car_count = len(current_car_elements)\n"
   ]
  },
  {
   "cell_type": "code",
   "execution_count": 59,
   "id": "d4863d9f",
   "metadata": {},
   "outputs": [],
   "source": [
    "Location_Sedan = []  \n",
    "\n",
    "previous_car_count = 0\n",
    "while True:\n",
    "    browser.find_element(By.TAG_NAME, 'body').send_keys(Keys.END)\n",
    "    time.sleep(3) \n",
    "    current_car_elements = browser.find_elements(By.XPATH, \"//span[@class='_3DYbK']\")\n",
    "    \n",
    "    if len(current_car_elements) == previous_car_count:\n",
    "        break  \n",
    "    else:\n",
    "        for element in current_car_elements[previous_car_count:]:\n",
    "            Location_Sedan.append(element.text)\n",
    "        previous_car_count = len(current_car_elements)"
   ]
  },
  {
   "cell_type": "markdown",
   "id": "2d058f9d",
   "metadata": {},
   "source": [
    "- # SUV"
   ]
  },
  {
   "cell_type": "code",
   "execution_count": 21,
   "id": "3f84ead0",
   "metadata": {},
   "outputs": [],
   "source": [
    "browser.get('https://www.cars24.com/buy-used-suv-cars-bangalore/')"
   ]
  },
  {
   "cell_type": "code",
   "execution_count": 22,
   "id": "884e63c2",
   "metadata": {},
   "outputs": [],
   "source": [
    "Car_Model_SUV = []  \n",
    "previous_car_count = 0\n",
    "while True:\n",
    "    browser.find_element(By.TAG_NAME, 'body').send_keys(Keys.END)\n",
    "    time.sleep(3) \n",
    "    current_car_elements = browser.find_elements(By.XPATH, \"//h2[@class='_2lmIw']\")\n",
    "    \n",
    "    if len(current_car_elements) == previous_car_count:\n",
    "        break  \n",
    "    else:\n",
    "        for element in current_car_elements[previous_car_count:]:\n",
    "            Car_Model_SUV .append(element.text)\n",
    "        previous_car_count = len(current_car_elements)"
   ]
  },
  {
   "cell_type": "code",
   "execution_count": 23,
   "id": "887d8f3c",
   "metadata": {},
   "outputs": [],
   "source": [
    "from selenium.webdriver.common.keys import Keys\n",
    "\n",
    "# ...\n",
    "\n",
    "configuration_SUV = []  \n",
    "previous_car_count = 0\n",
    "while True:\n",
    "    browser.find_element(By.TAG_NAME, 'body').send_keys(Keys.END)\n",
    "    time.sleep(3) \n",
    "    current_car_elements = browser.find_elements(By.XPATH, \"//ul[@class='_13yb6']\")\n",
    "    \n",
    "    if len(current_car_elements) == previous_car_count:\n",
    "        break  \n",
    "    else:\n",
    "        for element in current_car_elements[previous_car_count:]:\n",
    "            configuration_SUV.append(element.text)\n",
    "        previous_car_count = len(current_car_elements)\n"
   ]
  },
  {
   "cell_type": "code",
   "execution_count": 24,
   "id": "94baec58",
   "metadata": {},
   "outputs": [],
   "source": [
    "Type_SUV = []\n",
    "previous_car_count = 0\n",
    "while True:\n",
    "    browser.find_element(By.TAG_NAME, 'body').send_keys(Keys.END)\n",
    "    time.sleep(3)  \n",
    "    current_car_elements = browser.find_elements(By.XPATH, \"//ul[@class='_1hOnS']\")\n",
    "    \n",
    "    if len(current_car_elements) == previous_car_count:\n",
    "        break  \n",
    "    else:\n",
    "        for element in current_car_elements[previous_car_count:]:\n",
    "            Type_SUV.append(element.text)\n",
    "        previous_car_count = len(current_car_elements)"
   ]
  },
  {
   "cell_type": "code",
   "execution_count": 25,
   "id": "3165ab3c",
   "metadata": {},
   "outputs": [],
   "source": [
    "Discounted_Car_Price_SUV = []  \n",
    "previous_car_count = 0\n",
    "while True:\n",
    "    browser.find_element(By.TAG_NAME, 'body').send_keys(Keys.END)\n",
    "    time.sleep(3) \n",
    "    current_car_elements = browser.find_elements(By.XPATH, \"//div[@class='_18ToE']\")\n",
    "    \n",
    "    if len(current_car_elements) == previous_car_count: # No new car names loaded, exit the loop\n",
    "    else:\n",
    "        for element in current_car_elements[previous_car_count:]:\n",
    "            Discounted_Car_Price_SUV.append(element.text)\n",
    "        previous_car_count = len(current_car_elements)"
   ]
  },
  {
   "cell_type": "code",
   "execution_count": 26,
   "id": "bb4bc25e",
   "metadata": {},
   "outputs": [],
   "source": [
    "Location_SUV= []\n",
    "previous_car_count = 0\n",
    "while True:\n",
    "    browser.find_element(By.TAG_NAME, 'body').send_keys(Keys.END)\n",
    "    time.sleep(3)\n",
    "    current_car_elements = browser.find_elements(By.XPATH, \"//span[@class='_3DYbK']\")\n",
    "    \n",
    "    if len(current_car_elements) == previous_car_count:\n",
    "        break  \n",
    "    else:\n",
    "        for element in current_car_elements[previous_car_count:]:\n",
    "            Location_SUV.append(element.text)\n",
    "        previous_car_count = len(current_car_elements)"
   ]
  },
  {
   "cell_type": "code",
   "execution_count": 44,
   "id": "0dd1f05c",
   "metadata": {},
   "outputs": [],
   "source": [
    "import pandas as pd\n",
    "Hatchback=pd.DataFrame({'Car_Model':Car_Model_hatchback,'Configuration':configuration_hatchback,'Type':Type,'Discounted_Price':Discounted_Price,'Location':Location})"
   ]
  },
  {
   "cell_type": "code",
   "execution_count": 49,
   "id": "9b17fb39",
   "metadata": {},
   "outputs": [
    {
     "data": {
      "text/plain": [
       "246"
      ]
     },
     "execution_count": 49,
     "metadata": {},
     "output_type": "execute_result"
    }
   ],
   "source": [
    "len(Car_Model_Sedan)"
   ]
  },
  {
   "cell_type": "code",
   "execution_count": 50,
   "id": "14126efe",
   "metadata": {},
   "outputs": [
    {
     "data": {
      "text/plain": [
       "246"
      ]
     },
     "execution_count": 50,
     "metadata": {},
     "output_type": "execute_result"
    }
   ],
   "source": [
    "len(configuration_Sedan)"
   ]
  },
  {
   "cell_type": "code",
   "execution_count": 51,
   "id": "3b5da8ad",
   "metadata": {},
   "outputs": [
    {
     "data": {
      "text/plain": [
       "246"
      ]
     },
     "execution_count": 51,
     "metadata": {},
     "output_type": "execute_result"
    }
   ],
   "source": [
    "\n",
    "len(Type_Sedan)"
   ]
  },
  {
   "cell_type": "code",
   "execution_count": 52,
   "id": "c6ae4cce",
   "metadata": {},
   "outputs": [
    {
     "data": {
      "text/plain": [
       "246"
      ]
     },
     "execution_count": 52,
     "metadata": {},
     "output_type": "execute_result"
    }
   ],
   "source": [
    "len(Discounted_Car_Price_Sedan)"
   ]
  },
  {
   "cell_type": "code",
   "execution_count": 60,
   "id": "cb9a7761",
   "metadata": {},
   "outputs": [
    {
     "data": {
      "text/plain": [
       "246"
      ]
     },
     "execution_count": 60,
     "metadata": {},
     "output_type": "execute_result"
    }
   ],
   "source": [
    "len(Location_Sedan)"
   ]
  },
  {
   "cell_type": "code",
   "execution_count": null,
   "id": "1d0920d0",
   "metadata": {},
   "outputs": [],
   "source": []
  },
  {
   "cell_type": "code",
   "execution_count": 45,
   "id": "8428dd52",
   "metadata": {},
   "outputs": [
    {
     "data": {
      "text/html": [
       "<div>\n",
       "<style scoped>\n",
       "    .dataframe tbody tr th:only-of-type {\n",
       "        vertical-align: middle;\n",
       "    }\n",
       "\n",
       "    .dataframe tbody tr th {\n",
       "        vertical-align: top;\n",
       "    }\n",
       "\n",
       "    .dataframe thead th {\n",
       "        text-align: right;\n",
       "    }\n",
       "</style>\n",
       "<table border=\"1\" class=\"dataframe\">\n",
       "  <thead>\n",
       "    <tr style=\"text-align: right;\">\n",
       "      <th></th>\n",
       "      <th>Car_Model</th>\n",
       "      <th>Configuration</th>\n",
       "      <th>Type</th>\n",
       "      <th>Discounted_Price</th>\n",
       "      <th>Location</th>\n",
       "    </tr>\n",
       "  </thead>\n",
       "  <tbody>\n",
       "    <tr>\n",
       "      <th>0</th>\n",
       "      <td>2016 Volkswagen Polo</td>\n",
       "      <td>96,698 KM\\n2ND OWNER\\nPETROL\\nKA-09</td>\n",
       "      <td>GT TSI ATAutomatic</td>\n",
       "      <td>₹7,08,000\\n₹7,38,000</td>\n",
       "      <td>Sonnappanahalli</td>\n",
       "    </tr>\n",
       "    <tr>\n",
       "      <th>1</th>\n",
       "      <td>2015 Maruti Swift</td>\n",
       "      <td>60,352 KM\\n2ND OWNER\\nPETROL\\nKA-41</td>\n",
       "      <td>LXIManual</td>\n",
       "      <td>₹4,29,000\\n₹4,76,000</td>\n",
       "      <td>Whitefield Main Road, Bhoruka Tech Park, Benga...</td>\n",
       "    </tr>\n",
       "    <tr>\n",
       "      <th>2</th>\n",
       "      <td>2010 Maruti Swift</td>\n",
       "      <td>1,34,850 KM\\n2ND OWNER\\nPETROL\\nKA-51</td>\n",
       "      <td>VXIManual</td>\n",
       "      <td>₹3,14,000\\n₹3,40,000</td>\n",
       "      <td>Horamavu Agara Road, Bengaluru</td>\n",
       "    </tr>\n",
       "    <tr>\n",
       "      <th>3</th>\n",
       "      <td>2020 Hyundai Elite i20</td>\n",
       "      <td>49,087 KM\\n1ST OWNER\\nPETROL\\nKA-50</td>\n",
       "      <td>SPORTZ PLUS 1.2Manual</td>\n",
       "      <td>₹7,10,000\\n₹7,76,000</td>\n",
       "      <td>Horamavu Agara Road, Bengaluru</td>\n",
       "    </tr>\n",
       "    <tr>\n",
       "      <th>4</th>\n",
       "      <td>2017 Maruti Celerio</td>\n",
       "      <td>57,986 KM\\n2ND OWNER\\nPETROL\\nKA-06</td>\n",
       "      <td>VXI (O)Manual</td>\n",
       "      <td>₹4,06,000\\n₹4,41,000</td>\n",
       "      <td>Bellahalli, Bengaluru</td>\n",
       "    </tr>\n",
       "    <tr>\n",
       "      <th>...</th>\n",
       "      <td>...</td>\n",
       "      <td>...</td>\n",
       "      <td>...</td>\n",
       "      <td>...</td>\n",
       "      <td>...</td>\n",
       "    </tr>\n",
       "    <tr>\n",
       "      <th>807</th>\n",
       "      <td>2010 Maruti Alto K10</td>\n",
       "      <td>38,144 KM\\n2ND OWNER\\nPETROL\\nKA-41</td>\n",
       "      <td>LXIManual</td>\n",
       "      <td>₹2,23,000\\n₹2,33,000</td>\n",
       "      <td>Hosur Road, Singasandra, Bengaluru</td>\n",
       "    </tr>\n",
       "    <tr>\n",
       "      <th>808</th>\n",
       "      <td>2013 Maruti Alto 800</td>\n",
       "      <td>43,382 KM\\n2ND OWNER\\nPETROL\\nKA-02</td>\n",
       "      <td>VXIManual</td>\n",
       "      <td>₹2,78,000</td>\n",
       "      <td>Hosur Road, Singasandra, Bengaluru</td>\n",
       "    </tr>\n",
       "    <tr>\n",
       "      <th>809</th>\n",
       "      <td>2016 Hyundai Grand i10</td>\n",
       "      <td>40,792 KM\\n2ND OWNER\\nPETROL\\nKA-53</td>\n",
       "      <td>SPORTZ 1.2 KAPPA VTVTManual</td>\n",
       "      <td>₹4,78,000</td>\n",
       "      <td>Bellahalli, Bengaluru</td>\n",
       "    </tr>\n",
       "    <tr>\n",
       "      <th>810</th>\n",
       "      <td>2010 Maruti Ritz</td>\n",
       "      <td>86,017 KM\\n2ND OWNER\\nPETROL\\nKA-41</td>\n",
       "      <td>VXIManual</td>\n",
       "      <td>₹2,83,000</td>\n",
       "      <td>Hosur Road, Singasandra, Bengaluru</td>\n",
       "    </tr>\n",
       "    <tr>\n",
       "      <th>811</th>\n",
       "      <td>2016 Hyundai Grand i10</td>\n",
       "      <td>31,749 KM\\n2ND OWNER\\nPETROL\\nKA-03</td>\n",
       "      <td>ASTA (O) AT 1.2 KAPPA VTVTAutomatic</td>\n",
       "      <td>₹5,35,000</td>\n",
       "      <td>Bellahalli, Bengaluru</td>\n",
       "    </tr>\n",
       "  </tbody>\n",
       "</table>\n",
       "<p>812 rows × 5 columns</p>\n",
       "</div>"
      ],
      "text/plain": [
       "                  Car_Model                          Configuration  \\\n",
       "0      2016 Volkswagen Polo    96,698 KM\\n2ND OWNER\\nPETROL\\nKA-09   \n",
       "1         2015 Maruti Swift    60,352 KM\\n2ND OWNER\\nPETROL\\nKA-41   \n",
       "2         2010 Maruti Swift  1,34,850 KM\\n2ND OWNER\\nPETROL\\nKA-51   \n",
       "3    2020 Hyundai Elite i20    49,087 KM\\n1ST OWNER\\nPETROL\\nKA-50   \n",
       "4       2017 Maruti Celerio    57,986 KM\\n2ND OWNER\\nPETROL\\nKA-06   \n",
       "..                      ...                                    ...   \n",
       "807    2010 Maruti Alto K10    38,144 KM\\n2ND OWNER\\nPETROL\\nKA-41   \n",
       "808    2013 Maruti Alto 800    43,382 KM\\n2ND OWNER\\nPETROL\\nKA-02   \n",
       "809  2016 Hyundai Grand i10    40,792 KM\\n2ND OWNER\\nPETROL\\nKA-53   \n",
       "810        2010 Maruti Ritz    86,017 KM\\n2ND OWNER\\nPETROL\\nKA-41   \n",
       "811  2016 Hyundai Grand i10    31,749 KM\\n2ND OWNER\\nPETROL\\nKA-03   \n",
       "\n",
       "                                    Type      Discounted_Price  \\\n",
       "0                     GT TSI ATAutomatic  ₹7,08,000\\n₹7,38,000   \n",
       "1                              LXIManual  ₹4,29,000\\n₹4,76,000   \n",
       "2                              VXIManual  ₹3,14,000\\n₹3,40,000   \n",
       "3                  SPORTZ PLUS 1.2Manual  ₹7,10,000\\n₹7,76,000   \n",
       "4                          VXI (O)Manual  ₹4,06,000\\n₹4,41,000   \n",
       "..                                   ...                   ...   \n",
       "807                            LXIManual  ₹2,23,000\\n₹2,33,000   \n",
       "808                            VXIManual             ₹2,78,000   \n",
       "809          SPORTZ 1.2 KAPPA VTVTManual             ₹4,78,000   \n",
       "810                            VXIManual             ₹2,83,000   \n",
       "811  ASTA (O) AT 1.2 KAPPA VTVTAutomatic             ₹5,35,000   \n",
       "\n",
       "                                              Location  \n",
       "0                                      Sonnappanahalli  \n",
       "1    Whitefield Main Road, Bhoruka Tech Park, Benga...  \n",
       "2                       Horamavu Agara Road, Bengaluru  \n",
       "3                       Horamavu Agara Road, Bengaluru  \n",
       "4                                Bellahalli, Bengaluru  \n",
       "..                                                 ...  \n",
       "807                 Hosur Road, Singasandra, Bengaluru  \n",
       "808                 Hosur Road, Singasandra, Bengaluru  \n",
       "809                              Bellahalli, Bengaluru  \n",
       "810                 Hosur Road, Singasandra, Bengaluru  \n",
       "811                              Bellahalli, Bengaluru  \n",
       "\n",
       "[812 rows x 5 columns]"
      ]
     },
     "execution_count": 45,
     "metadata": {},
     "output_type": "execute_result"
    }
   ],
   "source": [
    "Hatchback"
   ]
  },
  {
   "cell_type": "code",
   "execution_count": 61,
   "id": "b9ece1f8",
   "metadata": {},
   "outputs": [],
   "source": [
    "Sedan=pd.DataFrame({'Car_Model':Car_Model_Sedan,'Configuration':configuration_Sedan,'Type':Type_Sedan,'Discounted_Price':Discounted_Car_Price_Sedan,'Location':Location_Sedan})"
   ]
  },
  {
   "cell_type": "code",
   "execution_count": 62,
   "id": "c75a7695",
   "metadata": {},
   "outputs": [],
   "source": [
    "SUV=pd.DataFrame({'Car_Model':Car_Model_SUV,'Configuration':configuration_SUV,'Type':Type_SUV,'Discounted_Price':Discounted_Car_Price_SUV,'Location':Location_SUV})"
   ]
  },
  {
   "cell_type": "code",
   "execution_count": 63,
   "id": "d1f7943c",
   "metadata": {},
   "outputs": [],
   "source": [
    "Hatchback.to_csv('Hatchback.csv')"
   ]
  },
  {
   "cell_type": "code",
   "execution_count": 64,
   "id": "ef0c7cc7",
   "metadata": {},
   "outputs": [],
   "source": [
    "Sedan.to_csv('Sedan.csv')"
   ]
  },
  {
   "cell_type": "code",
   "execution_count": 65,
   "id": "1d81c381",
   "metadata": {},
   "outputs": [],
   "source": [
    "SUV.to_csv('SUV.csv')"
   ]
  },
  {
   "cell_type": "code",
   "execution_count": null,
   "id": "abb648ad",
   "metadata": {},
   "outputs": [],
   "source": []
  }
 ],
 "metadata": {
  "kernelspec": {
   "display_name": "Python 3 (ipykernel)",
   "language": "python",
   "name": "python3"
  },
  "language_info": {
   "codemirror_mode": {
    "name": "ipython",
    "version": 3
   },
   "file_extension": ".py",
   "mimetype": "text/x-python",
   "name": "python",
   "nbconvert_exporter": "python",
   "pygments_lexer": "ipython3",
   "version": "3.9.13"
  }
 },
 "nbformat": 4,
 "nbformat_minor": 5
}
